{
 "cells": [
  {
   "cell_type": "markdown",
   "metadata": {},
   "source": [
    "# This notebook just tries to make a perfect \"delay line\" on a fast pulse to see how it behaves."
   ]
  },
  {
   "cell_type": "code",
   "execution_count": 39,
   "metadata": {},
   "outputs": [],
   "source": [
    "import numpy as np\n",
    "import matplotlib.pyplot as plt\n",
    "from scipy import special as spec\n",
    "\n",
    "%config InlineBackend.figure_format = 'retina'\n",
    "%matplotlib qt"
   ]
  },
  {
   "cell_type": "code",
   "execution_count": 40,
   "metadata": {},
   "outputs": [],
   "source": [
    "# Nanoseconds\n",
    "rise_time = 3\n",
    "fall_time = 30\n",
    "\n",
    "def pulse(t, t0):\n",
    "    fast_rise = (1 + spec.erf((t - t0) / rise_time)) / 2\n",
    "    exp_decay = np.exp(-(t - t0) / fall_time)\n",
    "    pulse = fast_rise * exp_decay\n",
    "\n",
    "    return pulse"
   ]
  },
  {
   "cell_type": "code",
   "execution_count": 50,
   "metadata": {},
   "outputs": [],
   "source": [
    "t = np.linspace(0, 200, num=1000)\n",
    "t0 = 20\n",
    "my_pulse = pulse(t, 30) + 0.1\n",
    "noise = np.random.uniform(low=-0.1, high=0.1, size=t.size)\n",
    "my_pulse += noise"
   ]
  },
  {
   "cell_type": "code",
   "execution_count": 51,
   "metadata": {},
   "outputs": [],
   "source": [
    "shift = np.argmin(np.abs(t - 10))\n",
    "diffed = -my_pulse[:-shift] + my_pulse[shift:]\n",
    "integral = np.cumsum(my_pulse - my_pulse.min())\n",
    "\n",
    "fig, ax = plt.subplots(layout='constrained')\n",
    "ax.plot(t, my_pulse, label='original')\n",
    "ax.plot(t[shift:] + t[shift], diffed, label='diffd')\n",
    "ax.plot(t, my_pulse.max() * integral / integral.max(), label='integrated')\n",
    "ax.legend()\n",
    "plt.show()"
   ]
  }
 ],
 "metadata": {
  "kernelspec": {
   "display_name": "Python 3",
   "language": "python",
   "name": "python3"
  },
  "language_info": {
   "codemirror_mode": {
    "name": "ipython",
    "version": 3
   },
   "file_extension": ".py",
   "mimetype": "text/x-python",
   "name": "python",
   "nbconvert_exporter": "python",
   "pygments_lexer": "ipython3",
   "version": "3.12.1"
  }
 },
 "nbformat": 4,
 "nbformat_minor": 2
}
